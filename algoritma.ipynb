{
 "cells": [
  {
   "cell_type": "code",
   "execution_count": 1,
   "metadata": {},
   "outputs": [
    {
     "name": "stderr",
     "output_type": "stream",
     "text": [
      "c:\\Users\\Umut\\Desktop\\Makine Öğrenmesi\\venv\\Lib\\site-packages\\sklearn\\neural_network\\_multilayer_perceptron.py:691: ConvergenceWarning: Stochastic Optimizer: Maximum iterations (200) reached and the optimization hasn't converged yet.\n",
      "  warnings.warn(\n"
     ]
    },
    {
     "name": "stdout",
     "output_type": "stream",
     "text": [
      "Linear Regression: 3.75000543990792e-20\n",
      "Ridge Regression: 20.144772338425152\n",
      "Lasso Regression: 0.5231242801321193\n",
      "Decision Tree: 8474500.0\n",
      "Random Forest: 1973748.8\n",
      "Gradient Boosting: 8056859.548654538\n",
      "SVR: 8005572193.551477\n",
      "KNN: 639939340.0\n",
      "MLP: 9249338632.16136\n",
      "Extra Trees: 2007877.0\n",
      "En iyi model: Linear Regression\n"
     ]
    },
    {
     "data": {
      "text/plain": [
       "['eniyi.joblib']"
      ]
     },
     "execution_count": 1,
     "metadata": {},
     "output_type": "execute_result"
    }
   ],
   "source": [
    "import pandas as pd\n",
    "from sklearn.model_selection import train_test_split\n",
    "from sklearn.metrics import mean_squared_error\n",
    "from sklearn.linear_model import LinearRegression, Ridge, Lasso\n",
    "from sklearn.tree import DecisionTreeRegressor\n",
    "from sklearn.ensemble import RandomForestRegressor, GradientBoostingRegressor\n",
    "from sklearn.svm import SVR\n",
    "from sklearn.neighbors import KNeighborsRegressor\n",
    "from sklearn.neural_network import MLPRegressor\n",
    "import joblib\n",
    "\n",
    "# Veri setini yükleme\n",
    "df = pd.read_csv('veri.csv')\n",
    "\n",
    "# Bağımsız ve bağımlı değişkenler\n",
    "X = df.drop('Fiyat', axis=1)\n",
    "y = df['Fiyat']\n",
    "\n",
    "# Veriyi eğitim ve test setlerine ayırma\n",
    "X_train, X_test, y_train, y_test = train_test_split(X, y, test_size=0.2, random_state=42)\n",
    "\n",
    "# Modeller\n",
    "models = {\n",
    "    'Linear Regression': LinearRegression(),\n",
    "    'Ridge Regression': Ridge(),\n",
    "    'Lasso Regression': Lasso(),\n",
    "    'Decision Tree': DecisionTreeRegressor(),\n",
    "    'Random Forest': RandomForestRegressor(),\n",
    "    'Gradient Boosting': GradientBoostingRegressor(),\n",
    "    'SVR': SVR(),\n",
    "    'KNN': KNeighborsRegressor(),\n",
    "    'MLP': MLPRegressor(),\n",
    "    'Extra Trees': RandomForestRegressor(n_estimators=100)\n",
    "}\n",
    "\n",
    "# Model eğitimi ve değerlendirme\n",
    "results = {}\n",
    "for name, model in models.items():\n",
    "    model.fit(X_train, y_train)\n",
    "    y_pred = model.predict(X_test)\n",
    "    mse = mean_squared_error(y_test, y_pred)\n",
    "    results[name] = mse\n",
    "\n",
    "# Sonuçları görüntüleme\n",
    "for name, mse in results.items():\n",
    "    print(f\"{name}: {mse}\")\n",
    "\n",
    "# En iyi modeli seçme\n",
    "best_model_name = min(results, key=results.get)\n",
    "best_model = models[best_model_name]\n",
    "print(f\"En iyi model: {best_model_name}\")\n",
    "\n",
    "# En iyi modeli kaydetme\n",
    "joblib.dump(best_model, 'eniyi.joblib')"
   ]
  }
 ],
 "metadata": {
  "kernelspec": {
   "display_name": "venv",
   "language": "python",
   "name": "python3"
  },
  "language_info": {
   "codemirror_mode": {
    "name": "ipython",
    "version": 3
   },
   "file_extension": ".py",
   "mimetype": "text/x-python",
   "name": "python",
   "nbconvert_exporter": "python",
   "pygments_lexer": "ipython3",
   "version": "3.12.6"
  }
 },
 "nbformat": 4,
 "nbformat_minor": 2
}
